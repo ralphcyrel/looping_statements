{
 "cells": [
  {
   "cell_type": "markdown",
   "source": [
    "Lab 2 Exercises\n",
    "Ralph Cyrel B. Ronda\n",
    "BSCPE 2-2"
   ],
   "metadata": {
    "collapsed": false
   },
   "id": "4f141867cbaa6dee"
  },
  {
   "cell_type": "markdown",
   "source": [
    "Lab 2 Exercise 1"
   ],
   "metadata": {
    "collapsed": false
   },
   "id": "f9829586f9da077e"
  },
  {
   "cell_type": "code",
   "outputs": [],
   "source": [
    "def power(base, exponent):\n",
    "    if exponent == 0:\n",
    "        return 1\n",
    "    else:\n",
    "        return base * power(base, exponent - 1)\n",
    "    \n",
    "result = power(2,7)\n",
    "print(result)"
   ],
   "metadata": {
    "collapsed": false,
    "is_executing": true
   },
   "id": "82c33151abe908a0"
  }
 ],
 "metadata": {
  "kernelspec": {
   "display_name": "Python 3",
   "language": "python",
   "name": "python3"
  },
  "language_info": {
   "codemirror_mode": {
    "name": "ipython",
    "version": 2
   },
   "file_extension": ".py",
   "mimetype": "text/x-python",
   "name": "python",
   "nbconvert_exporter": "python",
   "pygments_lexer": "ipython2",
   "version": "2.7.6"
  }
 },
 "nbformat": 4,
 "nbformat_minor": 5
}
