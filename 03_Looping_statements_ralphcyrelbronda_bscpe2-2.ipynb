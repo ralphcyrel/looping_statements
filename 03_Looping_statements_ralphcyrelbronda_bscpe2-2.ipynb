{
 "cells": [
  {
   "cell_type": "markdown",
   "source": [
    "Lab 2 Exercises\n",
    "Ralph Cyrel B. Ronda\n",
    "BSCPE 2-2"
   ],
   "metadata": {
    "collapsed": false
   },
   "id": "4f141867cbaa6dee"
  },
  {
   "cell_type": "markdown",
   "source": [
    "Lab 2 Exercise 1"
   ],
   "metadata": {
    "collapsed": false
   },
   "id": "f9829586f9da077e"
  },
  {
   "cell_type": "code",
   "outputs": [
    {
     "name": "stdout",
     "output_type": "stream",
     "text": [
      "128\n"
     ]
    }
   ],
   "source": [
    "def power(base, exponent):\n",
    "    if exponent == 0:\n",
    "        return 1\n",
    "    else:\n",
    "        return base * power(base, exponent - 1)\n",
    "    \n",
    "result = power(2,7)\n",
    "print(result)"
   ],
   "metadata": {
    "collapsed": false,
    "ExecuteTime": {
     "end_time": "2024-10-03T03:16:32.293820Z",
     "start_time": "2024-10-03T03:16:32.277218Z"
    }
   },
   "id": "82c33151abe908a0",
   "execution_count": 1
  },
  {
   "cell_type": "markdown",
   "source": [
    "Lab 2 Exercise 2"
   ],
   "metadata": {
    "collapsed": false
   },
   "id": "65548cbd6cc5736d"
  },
  {
   "cell_type": "code",
   "outputs": [
    {
     "name": "stdout",
     "output_type": "stream",
     "text": [
      "Cubes of the elements of the array: \n",
      "1331\n",
      "8\n",
      "27\n"
     ]
    }
   ],
   "source": [
    "size_array = int(input(\"Enter the size of the array: \"))\n",
    "list_integers = list(map(int, input(\"Enter the elements of the array: \").strip().split()))\n",
    "\n",
    "print(\"Cubes of the elements of the array: \")\n",
    "for element in list_integers: \n",
    "    print (element ** 3)"
   ],
   "metadata": {
    "collapsed": false,
    "ExecuteTime": {
     "end_time": "2024-10-03T03:26:10.449598Z",
     "start_time": "2024-10-03T03:26:05.861344Z"
    }
   },
   "id": "6c73eda181cf30a0",
   "execution_count": 4
  },
  {
   "cell_type": "markdown",
   "source": [
    "Lab 2 Exercise 3"
   ],
   "metadata": {
    "collapsed": false
   },
   "id": "5f3a817dcdccf0e8"
  },
  {
   "cell_type": "code",
   "outputs": [
    {
     "name": "stdout",
     "output_type": "stream",
     "text": [
      "****\n",
      "*  *\n",
      "*  *\n",
      "****\n"
     ]
    }
   ],
   "source": [
    "def square(n):\n",
    "    for i in range(n):\n",
    "        if i == 0 or i == n-1:\n",
    "            print('*' * n)\n",
    "        else:\n",
    "            print('*'+ ' ' * (n-2) + '*' )\n",
    "            \n",
    "n = int(input(\"Enter the side of the square: \"))\n",
    "square(n)\n"
   ],
   "metadata": {
    "collapsed": false,
    "ExecuteTime": {
     "end_time": "2024-10-03T03:32:40.431357Z",
     "start_time": "2024-10-03T03:32:37.763225Z"
    }
   },
   "id": "7842cb4726aec2cb",
   "execution_count": 7
  },
  {
   "cell_type": "markdown",
   "source": [
    "Lab 2 Exercise 4"
   ],
   "metadata": {
    "collapsed": false
   },
   "id": "d20db0e1233fde03"
  },
  {
   "cell_type": "code",
   "outputs": [
    {
     "name": "stdout",
     "output_type": "stream",
     "text": [
      "****\n",
      "***\n",
      "**\n",
      "*\n"
     ]
    }
   ],
   "source": [
    "for i in range (n, 0, -1):\n",
    "    print ('*' * i)\n",
    "    \n",
    "n = int(input(\"Enter the height of an inverted right triangle: \"))"
   ],
   "metadata": {
    "collapsed": false,
    "ExecuteTime": {
     "end_time": "2024-10-03T03:38:44.727659Z",
     "start_time": "2024-10-03T03:38:42.205904Z"
    }
   },
   "id": "a424a91cebe7914f",
   "execution_count": 8
  }
 ],
 "metadata": {
  "kernelspec": {
   "display_name": "Python 3",
   "language": "python",
   "name": "python3"
  },
  "language_info": {
   "codemirror_mode": {
    "name": "ipython",
    "version": 2
   },
   "file_extension": ".py",
   "mimetype": "text/x-python",
   "name": "python",
   "nbconvert_exporter": "python",
   "pygments_lexer": "ipython2",
   "version": "2.7.6"
  }
 },
 "nbformat": 4,
 "nbformat_minor": 5
}
